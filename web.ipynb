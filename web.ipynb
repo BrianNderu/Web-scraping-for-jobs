{
 "cells": [
  {
   "cell_type": "code",
   "execution_count": 30,
   "metadata": {},
   "outputs": [
    {
     "name": "stdout",
     "output_type": "stream",
     "text": [
      "enter skill you are not familiar with\n",
      "filtering out django\n",
      "Company name : Surya Informatics Solutions Pvt. Ltd.\n",
      "Required skills : python  ,  web technologies  ,  linux  ,  mobile  ,  mysql  ,  angularjs  ,  javascript\n",
      "more info https://www.timesjobs.com/job-detail/python-surya-informatics-solutions-pvt-ltd-chennai-0-to-3-yrs-jobid-UVlLes58wutzpSvf__PLUS__uAgZw==&source=srp\n",
      "Company name : Ivan Infotech Pvt. Ltd.\n",
      "Required skills : rest  ,  python  ,  security  ,  debugging\n",
      "more info https://www.timesjobs.com/job-detail/python-developer-ivan-infotech-pvt-ltd-kolkata-2-to-5-yrs-jobid-1h6sLaqbaBZzpSvf__PLUS__uAgZw==&source=srp\n",
      "Company name : east india securities ltd.\n",
      "Required skills : python  ,  hadoop  ,  machine learning\n",
      "more info https://www.timesjobs.com/job-detail/python-engineer-east-india-securities-ltd-kolkata-2-to-5-yrs-jobid-KEkE19WqPbFzpSvf__PLUS__uAgZw==&source=srp\n",
      "Company name : ERM Placement Services Pvt. Ltd.\n",
      "     (More Jobs)\n",
      "Required skills : Python  ,  sql\n",
      "more info https://www.timesjobs.com/job-detail/python-developer-big4-bengaluru-bangalore-delhi-7-to-10-yrs-jobid-ud18h6v8DiVzpSvf__PLUS__uAgZw==&source=srp\n",
      "Company name : TandA HR Solutions\n",
      "Required skills : Python  ,   Django  ,   Flask  ,   unit testing\n",
      "more info https://www.timesjobs.com/job-detail/python-developer-tanda-hr-solutions-mohali-chandigarh-3-to-6-yrs-jobid-yhy9asKbR4VzpSvf__PLUS__uAgZw==&source=srp\n",
      "Company name : TandA HR Solutions\n",
      "Required skills : Python  ,   Django  ,   Flask  ,   GIT Hub\n",
      "more info https://www.timesjobs.com/job-detail/python-developer-tanda-hr-solutions-mohali-chandigarh-3-to-6-yrs-jobid-EAm60cv2FrxzpSvf__PLUS__uAgZw==&source=srp\n",
      "Company name : APPLYCUP HIRING SOLUTIONS LLP\n",
      "Required skills : python  ,  web technologies  ,  web technologies\n",
      "more info https://www.timesjobs.com/job-detail/python-trainer-applycup-hiring-solutions-llp-pune-4-to-6-yrs-jobid-3V1Biww1YVJzpSvf__PLUS__uAgZw==&source=srp\n"
     ]
    }
   ],
   "source": [
    "from bs4 import BeautifulSoup\n",
    "import requests\n",
    "print(\"enter skill you are not familiar with\")\n",
    "unfamiliar_skill = input(\">\")\n",
    "print(f\"filtering out {unfamiliar_skill}\")\n",
    "html_text= requests.get(\"https://www.timesjobs.com/candidate/job-search.html?searchType=personalizedSearch&from=submit&txtKeywords=python&txtLocation=\").text\n",
    "soup = BeautifulSoup(html_text, \"lxml\")\n",
    "jobs = soup.find_all(\"li\", class_=\"clearfix job-bx wht-shd-bx\")\n",
    "for job in jobs:\n",
    "    published_date = job.find(\"span\", class_=\"sim-posted\").span.text\n",
    "    if \"few\" in published_date:\n",
    "        company_name = job.find(\"h3\", class_=\"joblist-comp-name\").text.replace(\" \", \" \")\n",
    "        skills = job.find(\"span\", class_=\"srp-skills\").text.replace(\" \", \" \")\n",
    "        more_info = job.header.h2.a[\"href\"]\n",
    "        if unfamiliar_skill not in skills:\n",
    "            print(f\"Company name : {company_name.strip()}\")\n",
    "            print(f\"Required skills : {skills.strip()}\")\n",
    "            print(f\"more info {more_info}\")\n"
   ]
  },
  {
   "cell_type": "code",
   "execution_count": null,
   "metadata": {},
   "outputs": [],
   "source": []
  }
 ],
 "metadata": {
  "kernelspec": {
   "display_name": "python(learn-env)",
   "language": "python",
   "name": "learn-env"
  },
  "language_info": {
   "codemirror_mode": {
    "name": "ipython",
    "version": 3
   },
   "file_extension": ".py",
   "mimetype": "text/x-python",
   "name": "python",
   "nbconvert_exporter": "python",
   "pygments_lexer": "ipython3",
   "version": "3.8.5"
  },
  "orig_nbformat": 4
 },
 "nbformat": 4,
 "nbformat_minor": 2
}
